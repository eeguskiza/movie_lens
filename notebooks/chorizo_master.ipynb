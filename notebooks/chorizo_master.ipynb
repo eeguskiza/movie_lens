{
 "cells": [
  {
   "cell_type": "markdown",
   "metadata": {},
   "source": [
    "(En futuros notebooks) Cargar el dataset fusionado y preparar las columnas complejas"
   ]
  },
  {
   "cell_type": "code",
   "execution_count": null,
   "metadata": {
    "vscode": {
     "languageId": "plaintext"
    }
   },
   "outputs": [],
   "source": [
    "import pandas as pd\n",
    "import ast\n",
    "import numpy as np\n",
    "\n",
    "df = pd.read_csv('final_merged_dataset.csv')\n",
    "# Reconvertir 'genres_vector' y 'tag_features' de string a lista\n",
    "df['genres_vector'] = df['genres_vector'].apply(ast.literal_eval)\n",
    "df['tag_features'] = df['tag_features'].apply(ast.literal_eval)\n",
    "\n",
    "# (Opcional) Convertir a arrays de numpy\n",
    "df['genres_vector'] = df['genres_vector'].apply(lambda x: np.array(x, dtype=np.float32))\n",
    "df['tag_features'] = df['tag_features'].apply(lambda x: np.array(x, dtype=np.float32))\n",
    "\n",
    "print(df.head())"
   ]
  }
 ],
 "metadata": {
  "language_info": {
   "name": "python"
  }
 },
 "nbformat": 4,
 "nbformat_minor": 2
}
